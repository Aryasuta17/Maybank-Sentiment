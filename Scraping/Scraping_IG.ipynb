{
 "cells": [
  {
   "cell_type": "code",
   "execution_count": null,
   "id": "0c3b4349",
   "metadata": {},
   "outputs": [],
   "source": [
    "# Cell 1\n",
    "from TikTokApi import TikTokApi\n",
    "import pandas as pd\n",
    "import csv\n",
    "import time\n",
    "from datetime import datetime\n"
   ]
  },
  {
   "cell_type": "code",
   "execution_count": null,
   "id": "49742276",
   "metadata": {},
   "outputs": [],
   "source": [
    "# Cell 2\n",
    "# Keyword dan jendela waktu\n",
    "KEYWORD    = \"maybank run 2024\"\n",
    "START_DT   = datetime(2024, 6, 1)\n",
    "END_DT     = datetime(2024, 10, 31, 23, 59, 59)\n",
    "\n",
    "# Fungsi bantu konversi UNIX timestamp ke datetime\n",
    "def to_datetime(ts: int) -> datetime:\n",
    "    return datetime.fromtimestamp(ts)\n"
   ]
  },
  {
   "cell_type": "code",
   "execution_count": null,
   "id": "1a1e949a",
   "metadata": {},
   "outputs": [],
   "source": [
    "# Cell 3\n",
    "api = TikTokApi.get_instance()\n",
    "\n",
    "# Ambil hingga N video (batasi misal 200)\n",
    "videos = api.search_for_videos(KEYWORD, count=200)\n",
    "\n",
    "# Filter berdasarkan tanggal post\n",
    "filtered = []\n",
    "for v in videos:\n",
    "    dt = to_datetime(v.createTime)\n",
    "    if START_DT <= dt <= END_DT:\n",
    "        filtered.append(v)\n",
    "print(f\"▶️ Ditemukan {len(filtered)} video antara Juni–Okt 2024\")\n"
   ]
  },
  {
   "cell_type": "code",
   "execution_count": null,
   "id": "829b43e9",
   "metadata": {},
   "outputs": [],
   "source": [
    "# Cell 4\n",
    "for v in filtered:\n",
    "    vid = v.id\n",
    "    post_dt = to_datetime(v.createTime).isoformat()\n",
    "    filename = f\"comments_{vid}.csv\"\n",
    "    print(f\"\\n⏳ Processing {vid} (posted {post_dt}) → {filename}\")\n",
    "\n",
    "    # Fetch semua komentar (maks 1000; sesuaikan jika perlu)\n",
    "    comments = api.video(id=vid).comments(count=1000)\n",
    "\n",
    "    # Simpan ke CSV\n",
    "    with open(filename, \"w\", newline=\"\", encoding=\"utf-8\") as f:\n",
    "        writer = csv.DictWriter(f, fieldnames=[\n",
    "            \"comment_id\", \"username\", \"text\", \"created_at\"\n",
    "        ])\n",
    "        writer.writeheader()\n",
    "        for c in comments:\n",
    "            writer.writerow({\n",
    "                \"comment_id\": c.id,\n",
    "                \"username\":   c.author.username,\n",
    "                \"text\":       c.text.replace(\"\\n\",\" \"),\n",
    "                \"created_at\": to_datetime(c.createTime).isoformat()\n",
    "            })\n",
    "    print(f\"✅ Saved {len(comments)} comments to {filename}\")\n",
    "\n",
    "    # jeda kecil biar sopan ke server\n",
    "    time.sleep(2)\n"
   ]
  }
 ],
 "metadata": {
  "kernelspec": {
   "display_name": "Python 3",
   "language": "python",
   "name": "python3"
  },
  "language_info": {
   "codemirror_mode": {
    "name": "ipython",
    "version": 3
   },
   "file_extension": ".py",
   "mimetype": "text/x-python",
   "name": "python",
   "nbconvert_exporter": "python",
   "pygments_lexer": "ipython3",
   "version": "3.11.0"
  }
 },
 "nbformat": 4,
 "nbformat_minor": 5
}
