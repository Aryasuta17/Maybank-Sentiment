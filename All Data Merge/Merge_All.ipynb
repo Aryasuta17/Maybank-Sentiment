{
 "cells": [
  {
   "cell_type": "code",
   "execution_count": 2,
   "id": "6636b633",
   "metadata": {},
   "outputs": [
    {
     "name": "stdout",
     "output_type": "stream",
     "text": [
      "Preview merged data (sorted by most recent publish_date):\n",
      "            publish_date             text               source\n",
      "5269 2025-05-23 17:59:13    wtb HM male 🙏  merged_all_comments\n",
      "4949 2025-05-20 08:53:11               🔥🔥  merged_all_comments\n",
      "5031 2025-05-20 08:53:01               🔥🔥  merged_all_comments\n",
      "5081 2025-05-20 08:51:58               🔥🔥  merged_all_comments\n",
      "5152 2025-05-20 08:49:35               🔥🔥  merged_all_comments\n",
      "5268 2025-05-20 08:45:52               🔥🔥  merged_all_comments\n",
      "3624 2025-05-20 01:52:53                💛  merged_all_comments\n",
      "3695 2025-05-20 01:51:50               🔥🔥  merged_all_comments\n",
      "5267 2025-05-04 10:17:29  wtb 10K atau HM  merged_all_comments\n",
      "2273 2025-04-30 08:04:15     let's run 🔥👏  merged_all_comments\n",
      "\n",
      "Merged file saved to: merged_three_comments.csv\n"
     ]
    },
    {
     "name": "stderr",
     "output_type": "stream",
     "text": [
      "C:\\Users\\ASUS\\AppData\\Local\\Temp\\ipykernel_23836\\3303736150.py:27: UserWarning: Could not infer format, so each element will be parsed individually, falling back to `dateutil`. To ensure parsing is consistent and as-expected, please specify a format.\n",
      "  df_merged3['publish_date'] = pd.to_datetime(df_merged3['publish_date'], utc=True, errors='coerce')\n"
     ]
    }
   ],
   "source": [
    "import pandas as pd\n",
    "\n",
    "# Read CSV files\n",
    "df1 = pd.read_csv('maybank_marathon_2024.csv')\n",
    "df2 = pd.read_csv('merged_all_comments.csv')\n",
    "df3 = pd.read_csv('yt_maybank_marathon_comments (timestamp gabungan).csv')\n",
    "\n",
    "# Extract and rename necessary columns\n",
    "df1_small = df1[['created_at', 'full_text']].rename(columns={\n",
    "    'created_at': 'publish_date',\n",
    "    'full_text': 'text'\n",
    "})\n",
    "df1_small['source'] = 'maybank_marathon_2024'\n",
    "\n",
    "df2_small = df2[['publish_date', 'text']].copy()\n",
    "df2_small['source'] = 'merged_all_comments'\n",
    "\n",
    "df3_small = df3[['published_at', 'text']].rename(columns={\n",
    "    'published_at': 'publish_date'\n",
    "})\n",
    "df3_small['source'] = 'yt_maybank_marathon_comments'\n",
    "\n",
    "# Merge data\n",
    "df_merged3 = pd.concat([df1_small, df2_small, df3_small], ignore_index=True)\n",
    "\n",
    "# Parse dates uniformly (convert to UTC then drop timezone)\n",
    "df_merged3['publish_date'] = pd.to_datetime(df_merged3['publish_date'], utc=True, errors='coerce')\n",
    "df_merged3['publish_date'] = df_merged3['publish_date'].dt.tz_convert(None)\n",
    "\n",
    "# Sort by most recent date\n",
    "df_merged3 = df_merged3.sort_values('publish_date', ascending=False)\n",
    "\n",
    "# Save merged file\n",
    "output_path = 'merged_three_comments.csv'\n",
    "df_merged3.to_csv(output_path, index=False)\n",
    "\n",
    "# Preview\n",
    "print(\"Preview merged data (sorted by most recent publish_date):\")\n",
    "print(df_merged3.head(10))\n",
    "print(f\"\\nMerged file saved to: {output_path}\")\n"
   ]
  }
 ],
 "metadata": {
  "kernelspec": {
   "display_name": "Python 3",
   "language": "python",
   "name": "python3"
  },
  "language_info": {
   "codemirror_mode": {
    "name": "ipython",
    "version": 3
   },
   "file_extension": ".py",
   "mimetype": "text/x-python",
   "name": "python",
   "nbconvert_exporter": "python",
   "pygments_lexer": "ipython3",
   "version": "3.11.0"
  }
 },
 "nbformat": 4,
 "nbformat_minor": 5
}
