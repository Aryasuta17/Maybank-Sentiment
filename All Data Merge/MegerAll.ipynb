{
 "cells": [
  {
   "cell_type": "code",
   "execution_count": 1,
   "id": "bf7a6544",
   "metadata": {},
   "outputs": [
    {
     "name": "stdout",
     "output_type": "stream",
     "text": [
      "Preview after relabeling 'source':\n",
      "          publish_date             text     source\n",
      "0  2025-05-23 17:59:13    wtb HM male 🙏  Instagram\n",
      "1  2025-05-20 08:53:11               🔥🔥  Instagram\n",
      "2  2025-05-20 08:53:01               🔥🔥  Instagram\n",
      "3  2025-05-20 08:51:58               🔥🔥  Instagram\n",
      "4  2025-05-20 08:49:35               🔥🔥  Instagram\n",
      "5  2025-05-20 08:45:52               🔥🔥  Instagram\n",
      "6  2025-05-20 01:52:53                💛  Instagram\n",
      "7  2025-05-20 01:51:50               🔥🔥  Instagram\n",
      "8  2025-05-04 10:17:29  wtb 10K atau HM  Instagram\n",
      "9  2025-04-30 08:04:15     let's run 🔥👏  Instagram\n",
      "\n",
      "Updated file saved to: merged_all_real.csv\n"
     ]
    }
   ],
   "source": [
    "import pandas as pd\n",
    "\n",
    "# Read the merged file\n",
    "df = pd.read_csv('merged_three_comments.csv')\n",
    "\n",
    "# Map source codes to human-friendly names\n",
    "source_mapping = {\n",
    "    'merged_all_comments': 'Instagram',\n",
    "    'yt_maybank_marathon_comments': 'YouTube',\n",
    "    'maybank_marathon_2024': 'Twitter'\n",
    "}\n",
    "df['source'] = df['source'].map(source_mapping)\n",
    "\n",
    "# Save the updated file\n",
    "output_path = 'merged_all_real.csv'\n",
    "df.to_csv(output_path, index=False)\n",
    "\n",
    "# Preview the changes\n",
    "print(\"Preview after relabeling 'source':\")\n",
    "print(df.head(10))\n",
    "\n",
    "print(f\"\\nUpdated file saved to: {output_path}\")\n"
   ]
  }
 ],
 "metadata": {
  "kernelspec": {
   "display_name": "Python 3",
   "language": "python",
   "name": "python3"
  },
  "language_info": {
   "codemirror_mode": {
    "name": "ipython",
    "version": 3
   },
   "file_extension": ".py",
   "mimetype": "text/x-python",
   "name": "python",
   "nbconvert_exporter": "python",
   "pygments_lexer": "ipython3",
   "version": "3.11.0"
  }
 },
 "nbformat": 4,
 "nbformat_minor": 5
}
