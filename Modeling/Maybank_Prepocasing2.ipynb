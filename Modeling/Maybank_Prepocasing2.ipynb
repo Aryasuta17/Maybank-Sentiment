{
 "cells": [
  {
   "cell_type": "code",
   "execution_count": 1,
   "id": "be96a9b0",
   "metadata": {},
   "outputs": [],
   "source": [
    "import re\n",
    "import pandas as pd\n",
    "import re\n",
    "from nltk.tokenize import TweetTokenizer\n"
   ]
  },
  {
   "cell_type": "code",
   "execution_count": 2,
   "id": "63924618",
   "metadata": {},
   "outputs": [],
   "source": [
    "df = pd.read_csv('DataFix_Translate.csv', encoding='utf-8')"
   ]
  },
  {
   "cell_type": "code",
   "execution_count": 5,
   "id": "618eec23",
   "metadata": {},
   "outputs": [
    {
     "name": "stdout",
     "output_type": "stream",
     "text": [
      "                                                                                                                                                                text_id                                                                                                                                                        text_clean\n",
      "                                                                                                                                        wtb HM laki-laki dilipat tangan                                                                                                                                   wtb hm laki laki dilipat tangan\n",
      "                                                                                                                                                                api api                                                                                                                                                           api api\n",
      "                                                                                                                                                                api api                                                                                                                                                           api api\n",
      "                                                                                                                                                                api api                                                                                                                                                           api api\n",
      "                                                                                                                                                                api api                                                                                                                                                           api api\n",
      "                                                                                                                                                                api api                                                                                                                                                           api api\n",
      "                                                                                                                                                            Hati kuning                                                                                                                                                       hati kuning\n",
      "                                                                                                                                                                api api                                                                                                                                                           api api\n",
      "                                                                                                                                                        wtb 10K atau HM                                                                                                                                                   wtb 10k atau hm\n",
      "                                                                                                                                 mari kita jalankan api bertepuk tangan                                                                                                                            mari kita jalankan api bertepuk tangan\n",
      "                                                                                                                                 mari kita jalankan api bertepuk tangan                                                                                                                            mari kita jalankan api bertepuk tangan\n",
      "                                                                                                                                 mari kita jalankan api bertepuk tangan                                                                                                                            mari kita jalankan api bertepuk tangan\n",
      "wah macasih mas vlognya salam dari kalimantan juwa saya kaltim hehe , darisek banyak vlog ini membantu sekali buat cari&#39; info , kebenutulan say a dapet MBM 2025 in wah macasih mas vlognya salam dari kalimantan juwa saya kaltim hehe darisek banyak vlog ini membantu sekali buat cari 39 info kebenutulan say a dapet mbm 2025 in\n",
      "                                                                                                                                       Sampai bertemu mengangkat tangan                                                                                                                                  sampai bertemu mengangkat tangan\n",
      "                                                                                                                                                              30 milyar                                                                                                                                                         30 milyar\n",
      "                                                                                        akua punya pertanya. aku seorangwanwanita. aau haruskah mengatakan pangil moil?                                                                                      akua punya pertanya aku seorangwanwanita aau haruskah mengatakan pangil moil\n",
      "                                                                                                                                       Aku ada disanaaaaaa virgin FM ku                                                                                                                                      aku ada disanaa virgin fm ku\n",
      "                                                                                                          MUSIK gamelan blinya bikin suasana berasa otentik bali ya kak                                                                                                     musik gamelan blinya bikin suasana berasa otentik bali ya kak\n",
      "                                                                                                                                                       @Mmirwaan Aamiin                                                                                                                                                  @mmirwaan aamiin\n",
      "                                                                                                      Ada tempat parkirnya kah? <br> Baru maukut soalnya dilipat tangan                                                                                                    ada tempat parkirnya kah br baru maukut soalnya dilipat tangan\n"
     ]
    }
   ],
   "source": [
    "slang_map = {\n",
    "    'gak': 'tidak', 'ga': 'tidak', 'nggak': 'tidak',\n",
    "    'nya': '', 'sih': '', 'aja': 'saja',\n",
    "}\n",
    "slang_pattern = re.compile(\n",
    "    r'\\b(' + '|'.join(map(re.escape, slang_map)) + r')\\b',\n",
    "    flags=re.IGNORECASE\n",
    ")\n",
    "\n",
    "def normalize_slang(text: str) -> str:\n",
    "    return slang_pattern.sub(lambda m: slang_map[m.group(0).lower()], text)\n",
    "\n",
    "def reduce_lengthening(text: str) -> str:\n",
    "    return re.sub(r'(.)\\1{2,}', r'\\1\\1', text)\n",
    "\n",
    "def preprocess_id(text: str) -> str:\n",
    "    txt = text.lower()\n",
    "    txt = re.sub(r'http\\S+|www\\.\\S+', ' ', txt)\n",
    "    txt = normalize_slang(txt)\n",
    "    txt = reduce_lengthening(txt)\n",
    "    txt = re.sub(r'[^a-z0-9\\s@]', ' ', txt)\n",
    "    txt = re.sub(r'\\s+', ' ', txt).strip()\n",
    "    return txt\n",
    "\n",
    "df['text_clean'] = df['text_id'].fillna('').astype(str).apply(preprocess_id)\n",
    "\n",
    "print(df[['text_id','text_clean']].head(20).to_string(index=False))\n",
    "\n",
    "df.to_csv('DataFix_Preprocessed.csv', index=False, encoding='utf-8')\n"
   ]
  }
 ],
 "metadata": {
  "kernelspec": {
   "display_name": "Python 3",
   "language": "python",
   "name": "python3"
  },
  "language_info": {
   "codemirror_mode": {
    "name": "ipython",
    "version": 3
   },
   "file_extension": ".py",
   "mimetype": "text/x-python",
   "name": "python",
   "nbconvert_exporter": "python",
   "pygments_lexer": "ipython3",
   "version": "3.11.0"
  }
 },
 "nbformat": 4,
 "nbformat_minor": 5
}
