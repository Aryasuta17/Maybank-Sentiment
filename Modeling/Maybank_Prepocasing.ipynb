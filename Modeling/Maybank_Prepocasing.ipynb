{
 "cells": [
  {
   "cell_type": "code",
   "execution_count": 1,
   "id": "be96a9b0",
   "metadata": {},
   "outputs": [],
   "source": [
    "import re\n",
    "import pandas as pd\n",
    "import nltk\n",
    "from nltk.corpus import stopwords\n",
    "from Sastrawi.Stemmer.StemmerFactory import StemmerFactory\n",
    "from wordcloud import WordCloud\n",
    "import matplotlib.pyplot as plt"
   ]
  },
  {
   "cell_type": "code",
   "execution_count": 2,
   "id": "63924618",
   "metadata": {},
   "outputs": [
    {
     "name": "stderr",
     "output_type": "stream",
     "text": [
      "[nltk_data] Downloading package punkt to\n",
      "[nltk_data]     C:\\Users\\ASUS\\AppData\\Roaming\\nltk_data...\n",
      "[nltk_data]   Package punkt is already up-to-date!\n",
      "[nltk_data] Downloading package stopwords to\n",
      "[nltk_data]     C:\\Users\\ASUS\\AppData\\Roaming\\nltk_data...\n",
      "[nltk_data]   Package stopwords is already up-to-date!\n"
     ]
    }
   ],
   "source": [
    "nltk.download('punkt')\n",
    "nltk.download('stopwords')\n",
    "\n",
    "df = pd.read_csv('DataFix_Translate.csv', encoding='utf-8')\n",
    "\n",
    "stop_words = set(stopwords.words('indonesian'))\n",
    "stemmer = StemmerFactory().create_stemmer()"
   ]
  },
  {
   "cell_type": "code",
   "execution_count": 4,
   "id": "618eec23",
   "metadata": {},
   "outputs": [
    {
     "name": "stdout",
     "output_type": "stream",
     "text": [
      "                                                                                                                                                                text_id                                                                                                                                   tokens_id\n",
      "                                                                                                                                        wtb HM laki-laki dilipat tangan                                                                                                        [wtb, hm, laki, laki, lipat, tangan]\n",
      "                                                                                                                                                                api api                                                                                                                                  [api, api]\n",
      "                                                                                                                                                                api api                                                                                                                                  [api, api]\n",
      "                                                                                                                                                                api api                                                                                                                                  [api, api]\n",
      "                                                                                                                                                                api api                                                                                                                                  [api, api]\n",
      "                                                                                                                                                                api api                                                                                                                                  [api, api]\n",
      "                                                                                                                                                            Hati kuning                                                                                                                              [hati, kuning]\n",
      "                                                                                                                                                                api api                                                                                                                                  [api, api]\n",
      "                                                                                                                                                        wtb 10K atau HM                                                                                                                              [wtb, 10k, hm]\n",
      "                                                                                                                                 mari kita jalankan api bertepuk tangan                                                                                                           [mari, jalan, api, tepuk, tangan]\n",
      "                                                                                                                                 mari kita jalankan api bertepuk tangan                                                                                                           [mari, jalan, api, tepuk, tangan]\n",
      "                                                                                                                                 mari kita jalankan api bertepuk tangan                                                                                                           [mari, jalan, api, tepuk, tangan]\n",
      "wah macasih mas vlognya salam dari kalimantan juwa saya kaltim hehe , darisek banyak vlog ini membantu sekali buat cari&#39; info , kebenutulan say a dapet MBM 2025 in [macasih, mas, vlognya, salam, kalimantan, juwa, kaltim, hehe, darisek, vlog, bantu, cari, info, kebenutulan, say, a, dapet, mbm, 2025, in]\n",
      "                                                                                                                                       Sampai bertemu mengangkat tangan                                                                                                                      [temu, angkat, tangan]\n",
      "                                                                                                                                                              30 milyar                                                                                                                                [30, milyar]\n",
      "                                                                                        akua punya pertanya. aku seorangwanwanita. aau haruskah mengatakan pangil moil?                                                                                   [akua, tanya, seorangwanwanita, aau, harus, pangil, moil]\n",
      "                                                                                                                                       Aku ada disanaaaaaa virgin FM ku                                                                                                                   [disanaa, virgin, fm, ku]\n",
      "                                                                                                          MUSIK gamelan blinya bikin suasana berasa otentik bali ya kak                                                                        [musik, gamelan, blinya, bikin, suasana, asa, otentik, bal, ya, kak]\n",
      "                                                                                                                                                       @Mmirwaan Aamiin                                                                                                                          [mmirwaan, aamiin]\n",
      "                                                                                                      Ada tempat parkirnya kah? <br> Baru maukut soalnya dilipat tangan                                                                                                    [parkir, kah, br, maukut, lipat, tangan]\n"
     ]
    }
   ],
   "source": [
    "slang_map = {\n",
    "    'gak': 'tidak', 'ga': 'tidak', 'nggak': 'tidak',\n",
    "    'nya': '', 'sih': '', 'aja': 'saja',\n",
    "}\n",
    "slang_pattern = re.compile(r'\\b(' + '|'.join(map(re.escape, slang_map)) + r')\\b', flags=re.IGNORECASE)\n",
    "\n",
    "def normalize_slang(text):\n",
    "    return slang_pattern.sub(lambda m: slang_map[m.group(0).lower()], text)\n",
    "\n",
    "def reduce_lengthening(text):\n",
    "    return re.sub(r'(.)\\1{2,}', r'\\1\\1', text)\n",
    "\n",
    "def preprocess_id(text):\n",
    "    txt = text.lower()\n",
    "    txt = re.sub(r'http\\S+|www\\.\\S+|#\\w+', ' ', txt)\n",
    "    txt = normalize_slang(txt)\n",
    "    txt = reduce_lengthening(txt)\n",
    "    txt = re.sub(r'[^a-z0-9\\s]', ' ', txt)\n",
    "    txt = re.sub(r'\\s+', ' ', txt).strip()\n",
    "    tokens = nltk.word_tokenize(txt)\n",
    "    tokens = [t for t in tokens if t not in stop_words]\n",
    "    tokens = [stemmer.stem(t) for t in tokens]\n",
    "    return tokens\n",
    "\n",
    "df['tokens_id'] = df['text_id'].fillna('').astype(str).apply(preprocess_id)\n",
    "\n",
    "df.to_csv('DataFix_Preprocessed.csv', index=False, encoding='utf-8')\n",
    "\n",
    "print(df[['text_id','tokens_id']].head(20).to_string(index=False))"
   ]
  },
  {
   "cell_type": "code",
   "execution_count": null,
   "id": "e19855d6",
   "metadata": {},
   "outputs": [],
   "source": [
    "def plot_sentiment_timeline_monthly(data, title):\n",
    "    # Group by month and rating, count occurrences\n",
    "    counts_per_month = data.groupby([data['publish_date'].dt.to_period('M'), 'Rating']).size().reset_index(name='jumlah')\n",
    "    counts_per_month['publish_date'] = counts_per_month['publish_date'].astype(str)\n",
    "    \n",
    "    # Create the plot\n",
    "    plt.figure(figsize=(12, 6))\n",
    "    sns.lineplot(data=counts_per_month, x='publish_date', y='jumlah', hue='Rating', marker='o')\n",
    "    plt.title(title)\n",
    "    plt.xlabel('Bulan')\n",
    "    plt.ylabel('Jumlah')\n",
    "    plt.legend(title='Rating')\n",
    "    plt.xticks(rotation=45)\n",
    "    plt.grid(True, linestyle='--', alpha=0.7)\n",
    "    plt.tight_layout()\n",
    "    plt.show()\n",
    "\n",
    "# Create the plots\n",
    "if not sebelum_hari_h.empty:\n",
    "    plot_sentiment_timeline_monthly(sebelum_hari_h, 'Distribusi Rating Bulanan Sebelum Hari H')\n",
    "if not sesudah_hari_h.empty:\n",
    "    plot_sentiment_timeline_monthly(sesudah_hari_h, 'Distribusi Rating Bulanan Sesudah Hari H')"
   ]
  }
 ],
 "metadata": {
  "kernelspec": {
   "display_name": "Python 3",
   "language": "python",
   "name": "python3"
  },
  "language_info": {
   "codemirror_mode": {
    "name": "ipython",
    "version": 3
   },
   "file_extension": ".py",
   "mimetype": "text/x-python",
   "name": "python",
   "nbconvert_exporter": "python",
   "pygments_lexer": "ipython3",
   "version": "3.11.0"
  }
 },
 "nbformat": 4,
 "nbformat_minor": 5
}
