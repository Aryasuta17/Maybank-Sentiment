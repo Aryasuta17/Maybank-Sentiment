{
 "cells": [
  {
   "cell_type": "code",
   "execution_count": 1,
   "id": "2c62cdb4",
   "metadata": {},
   "outputs": [],
   "source": [
    "import glob\n",
    "import os\n",
    "import pandas as pd"
   ]
  },
  {
   "cell_type": "code",
   "execution_count": 2,
   "id": "23fedda4",
   "metadata": {},
   "outputs": [
    {
     "name": "stdout",
     "output_type": "stream",
     "text": [
      "Found 21 files in Raw Reels folder.\n"
     ]
    }
   ],
   "source": [
    "folder = \"Raw Reels\"   \n",
    "\n",
    "pattern = os.path.join(folder, \"*.csv\")\n",
    "all_files = glob.glob(pattern)\n",
    "print(f\"Found {len(all_files)} files in Raw Reels folder.\")"
   ]
  },
  {
   "cell_type": "code",
   "execution_count": 3,
   "id": "ab95b2f7",
   "metadata": {},
   "outputs": [
    {
     "name": "stdout",
     "output_type": "stream",
     "text": [
      "Merged into one DataFrame: 1413 rows × 7 cols.\n",
      "Saved merged file to: Raw Reels\\merged_reels_comments.csv\n",
      "     User Id      User Name         Comment Id  \\\n",
      "0  196803815  dimasadityasd  17877169986110028   \n",
      "1  367066637       intanzst  18019527086389288   \n",
      "2  225891216   zainchucky18  18067046119596910   \n",
      "3  491584000      bramz7777  18057426514737021   \n",
      "4  297256758    zakiah_kiaa  18161944072310050   \n",
      "\n",
      "                                    Comment Text  \\\n",
      "0  @inesiadq Ngga Nes hahaha. Mau ngasih? hahaha   \n",
      "1          @naimnasir9 yup cam same last year ek   \n",
      "2                           Dari abu ke kuning 😎   \n",
      "3                Koq bagus... Tau gitu ikut FM 😋   \n",
      "4                                             😍😍   \n",
      "\n",
      "                               Profile URL  \\\n",
      "0  https://www.instagram.com/dimasadityasd   \n",
      "1       https://www.instagram.com/intanzst   \n",
      "2   https://www.instagram.com/zainchucky18   \n",
      "3      https://www.instagram.com/bramz7777   \n",
      "4    https://www.instagram.com/zakiah_kiaa   \n",
      "\n",
      "                                          Avatar URL           Publish Date  \n",
      "0  https://scontent-lax3-2.cdninstagram.com/v/t51...  8/21/2024, 1:09:43 PM  \n",
      "1  https://scontent-lax3-2.cdninstagram.com/v/t51...  8/21/2024, 1:34:40 PM  \n",
      "2  https://scontent-lax3-2.cdninstagram.com/v/t51...  8/21/2024, 2:02:24 PM  \n",
      "3  https://scontent-lax3-1.cdninstagram.com/v/t51...  8/21/2024, 2:04:30 PM  \n",
      "4  https://scontent-lax3-2.cdninstagram.com/v/t51...  8/21/2024, 2:48:57 PM  \n"
     ]
    }
   ],
   "source": [
    "df_list = []\n",
    "for fp in all_files:\n",
    "    try:\n",
    "        df = pd.read_csv(fp)\n",
    "    except:\n",
    "        df = pd.read_csv(fp, sep=None, engine=\"python\")\n",
    "    df_list.append(df)\n",
    "\n",
    "merged = pd.concat(df_list, ignore_index=True)\n",
    "print(f\"Merged into one DataFrame: {merged.shape[0]} rows × {merged.shape[1]} cols.\")\n",
    "\n",
    "out_path = os.path.join(folder, \"merged_reels_comments.csv\")\n",
    "merged.to_csv(out_path, index=False)\n",
    "print(f\"Saved merged file to: {out_path}\")\n",
    "\n",
    "print( merged.head() )"
   ]
  }
 ],
 "metadata": {
  "kernelspec": {
   "display_name": "Python 3",
   "language": "python",
   "name": "python3"
  },
  "language_info": {
   "codemirror_mode": {
    "name": "ipython",
    "version": 3
   },
   "file_extension": ".py",
   "mimetype": "text/x-python",
   "name": "python",
   "nbconvert_exporter": "python",
   "pygments_lexer": "ipython3",
   "version": "3.11.0"
  }
 },
 "nbformat": 4,
 "nbformat_minor": 5
}
